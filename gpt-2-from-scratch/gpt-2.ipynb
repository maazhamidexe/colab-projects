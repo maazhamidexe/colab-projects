{
  "nbformat": 4,
  "nbformat_minor": 0,
  "metadata": {
    "colab": {
      "provenance": [],
      "gpuType": "T4"
    },
    "kernelspec": {
      "name": "python3",
      "display_name": "Python 3"
    },
    "language_info": {
      "name": "python"
    },
    "accelerator": "GPU"
  },
  "cells": [
    {
      "cell_type": "markdown",
      "source": [
        "# The image depicts a decoder-only Transformer architecture, similar to models like GPT. It consists of:\n",
        "\n",
        "### Input Embedding + Positional Encoding\n",
        "### A stack of Transformer Blocks (Decoder Blocks)\n",
        "### Each Transformer Block has:\n",
        "### Masked Multi-Head Self-Attention\n",
        "### Add & Norm (Residual Connection + Layer Normalization)\n",
        "### Feed-Forward Network\n",
        "### Add & Norm\n",
        "### Final Layer Normalization\n",
        "### Linear layer (to project to vocabulary size)\n",
        "### Softmax (to get probabilities)"
      ],
      "metadata": {
        "id": "kvnEOeaqnBWm"
      }
    },
    {
      "cell_type": "code",
      "source": [
        "import torch\n",
        "import torch.nn as nn\n",
        "import torch.nn.functional as F\n",
        "import math\n",
        "import matplotlib.pyplot as plt\n",
        "from sklearn.manifold import TSNE\n",
        "from sklearn.decomposition import PCA\n",
        "import numpy as np\n",
        "import requests # For downloading Shakespeare\n",
        "from nltk.translate.bleu_score import sentence_bleu, SmoothingFunction\n",
        "from transformers import AutoModelForCausalLM, AutoTokenizer, GPT2LMHeadModel, GPT2Config\n",
        "from transformers import TextDataset, DataCollatorForLanguageModeling\n",
        "from transformers import Trainer, TrainingArguments\n",
        "\n",
        "# Set device\n",
        "device = torch.device(\"cuda\" if torch.cuda.is_available() else \"cpu\")\n",
        "print(f\"Using device: {device}\")\n",
        "\n",
        "# For reproducibility\n",
        "torch.manual_seed(42)\n",
        "np.random.seed(42)"
      ],
      "metadata": {
        "colab": {
          "base_uri": "https://localhost:8080/"
        },
        "id": "NyD9fkbwnLfM",
        "outputId": "9a55e5bd-9197-40ee-8190-315cfb07f3d3"
      },
      "execution_count": 1,
      "outputs": [
        {
          "output_type": "stream",
          "name": "stdout",
          "text": [
            "Using device: cuda\n"
          ]
        }
      ]
    },
    {
      "cell_type": "code",
      "source": [],
      "metadata": {
        "id": "nl7xlEhMpDbc"
      },
      "execution_count": 3,
      "outputs": []
    },
    {
      "cell_type": "markdown",
      "source": [
        "## 1. Token & Position Embedding\n",
        "Token Embedding: Converts input tokens (integers representing words/subwords/characters) into dense vector representations.\n",
        "Position Embedding: Adds information about the position of each token in the sequence, as the self-attention mechanism itself is permutation-invariant."
      ],
      "metadata": {
        "id": "pRUuILGqpF_S"
      }
    },
    {
      "cell_type": "code",
      "source": [
        "class TokenAndPositionEmbedding(nn.Module):\n",
        "    def __init__(self, vocab_size, embed_dim, block_size):\n",
        "        \"\"\"\n",
        "        Args:\n",
        "            vocab_size (int): Number of unique tokens in the vocabulary.\n",
        "            embed_dim (int): Dimensionality of the token and position embeddings.\n",
        "            block_size (int): Maximum sequence length the model can handle (context window).\n",
        "        \"\"\"\n",
        "        super().__init__()\n",
        "        self.token_embedding = nn.Embedding(vocab_size, embed_dim)\n",
        "        self.position_embedding = nn.Embedding(block_size, embed_dim)\n",
        "        self.embed_dim = embed_dim\n",
        "        self.block_size = block_size\n",
        "\n",
        "    def forward(self, idx):\n",
        "        \"\"\"\n",
        "        Args:\n",
        "            idx (torch.Tensor): Input tensor of token indices, shape (batch_size, seq_len).\n",
        "        Returns:\n",
        "            torch.Tensor: Combined token and position embeddings, shape (batch_size, seq_len, embed_dim).\n",
        "        \"\"\"\n",
        "        B, T = idx.shape\n",
        "        if T > self.block_size:\n",
        "            raise ValueError(f\"Input sequence length ({T}) exceeds block_size ({self.block_size})\")\n",
        "\n",
        "        tok_emb = self.token_embedding(idx)  # (B, T, embed_dim)\n",
        "\n",
        "        # Create position indices: 0, 1, 2, ..., T-1\n",
        "        pos_idx = torch.arange(T, device=idx.device).unsqueeze(0) # (1, T)\n",
        "        pos_emb = self.position_embedding(pos_idx) # (1, T, embed_dim)\n",
        "\n",
        "        # Add token and position embeddings (broadcasting pos_emb across batch)\n",
        "        x = tok_emb + pos_emb\n",
        "        return x\n",
        "\n",
        "# --- Configuration for our simplified model ---\n",
        "VOCAB_SIZE = 65 # Example: For character-level Shakespeare (26 lowercase, 26 upper, 10 digits, space, newline, punctuation)\n",
        "EMBED_DIM = 128 # Reduced from GPT-2's 768 for faster training\n",
        "BLOCK_SIZE = 64 # Max context length, reduced from 1024\n",
        "# --- End Configuration ---\n",
        "\n",
        "# Example Usage & Visualization\n",
        "sample_vocab = {chr(i+97): i for i in range(26)} # a-z\n",
        "sample_vocab_size = len(sample_vocab)\n",
        "sample_embed_dim = 32 # Small for visualization\n",
        "sample_block_size = 10\n",
        "\n",
        "embedding_layer = TokenAndPositionEmbedding(sample_vocab_size, sample_embed_dim, sample_block_size).to(device)\n",
        "\n",
        "# Create some sample token indices\n",
        "sample_text = \"hello\"\n",
        "sample_indices = torch.tensor([[sample_vocab[c] for c in sample_text]], dtype=torch.long).to(device)\n",
        "\n",
        "embedded_output = embedding_layer(sample_indices)\n",
        "print(\"Shape of embedded output:\", embedded_output.shape)\n",
        "\n",
        "# Visualization: Plot token embedding (PCA/TSNE)\n",
        "# We'll visualize the token embeddings directly from the nn.Embedding layer\n",
        "token_embeddings_matrix = embedding_layer.token_embedding.weight.data.cpu().numpy()\n",
        "\n",
        "if sample_vocab_size > 2 and sample_embed_dim > 1 : # PCA/TSNE need at least 2 samples and 2 features\n",
        "    if token_embeddings_matrix.shape[0] > 1 and token_embeddings_matrix.shape[1] > 1: # Ensure enough data for PCA/TSNE\n",
        "        if token_embeddings_matrix.shape[0] > 2 and token_embeddings_matrix.shape[1] > 2 : # TSNE prefers n_samples > n_components\n",
        "            tsne = TSNE(n_components=2, perplexity=min(5, sample_vocab_size-1), random_state=42, init='pca', learning_rate='auto')\n",
        "            reduced_embeddings = tsne.fit_transform(token_embeddings_matrix)\n",
        "        else:\n",
        "            pca = PCA(n_components=2)\n",
        "            reduced_embeddings = pca.fit_transform(token_embeddings_matrix)\n",
        "\n",
        "        plt.figure(figsize=(10, 8))\n",
        "        for i, char_code in enumerate(sample_vocab.values()):\n",
        "            char = [k for k, v in sample_vocab.items() if v == char_code][0]\n",
        "            plt.scatter(reduced_embeddings[i, 0], reduced_embeddings[i, 1])\n",
        "            plt.text(reduced_embeddings[i, 0]+0.05, reduced_embeddings[i, 1]+0.05, char)\n",
        "        plt.title(\"Token Embeddings Visualization (TSNE/PCA)\")\n",
        "        plt.xlabel(\"Component 1\")\n",
        "        plt.ylabel(\"Component 2\")\n",
        "        plt.show()\n",
        "    else:\n",
        "        print(\"Not enough data points or dimensions for PCA/TSNE visualization of token embeddings.\")\n",
        "else:\n",
        "    print(\"Vocab size or embed_dim too small for meaningful PCA/TSNE visualization.\")"
      ],
      "metadata": {
        "colab": {
          "base_uri": "https://localhost:8080/",
          "height": 735
        },
        "id": "s1IALqGOpHef",
        "outputId": "06242eab-5724-442b-fb3b-2f5738008719"
      },
      "execution_count": 2,
      "outputs": [
        {
          "output_type": "stream",
          "name": "stdout",
          "text": [
            "Shape of embedded output: torch.Size([1, 5, 32])\n"
          ]
        },
        {
          "output_type": "display_data",
          "data": {
            "text/plain": [
              "<Figure size 1000x800 with 1 Axes>"
            ],
            "image/png": "[encoded data removed]"
          },
          "metadata": {}
        }
      ]
    },
    {
      "cell_type": "code",
      "source": [],
      "metadata": {
        "id": "ctDa7eWZpMFA"
      },
      "execution_count": 2,
      "outputs": []
    },
    {
      "cell_type": "markdown",
      "source": [
        "Question: We add or concatenate position embedding here?\n",
        "### Answer: In the standard Transformer architecture (Vaswani et al., 2017) and GPT-like models, the positional embeddings are added to the token embeddings. The provided diagram also shows an addition operation (+) combining \"Input Embedding\" and \"Positional Encoding\". Adding them allows the model to learn a combined representation where position influences the token's vector. Concatenation would increase the dimensionality and require subsequent layers to learn how to merge this information."
      ],
      "metadata": {
        "id": "HHjfLMpNpdhE"
      }
    },
    {
      "cell_type": "code",
      "source": [],
      "metadata": {
        "id": "wmE72dT-pfXQ"
      },
      "execution_count": 2,
      "outputs": []
    },
    {
      "cell_type": "markdown",
      "source": [
        "# 2. Multi-Head Attention\n",
        "Multi-Head Attention (MHA) allows the model to jointly attend to information from different representation subspaces at different positions."
      ],
      "metadata": {
        "id": "XBB8Yw8mpkY4"
      }
    },
    {
      "cell_type": "code",
      "source": [
        "class Head(nn.Module):\n",
        "    \"\"\"One head of self-attention\"\"\"\n",
        "    def __init__(self, embed_dim, head_size, block_size, dropout_rate):\n",
        "        super().__init__()\n",
        "        self.key = nn.Linear(embed_dim, head_size, bias=False)\n",
        "        self.query = nn.Linear(embed_dim, head_size, bias=False)\n",
        "        self.value = nn.Linear(embed_dim, head_size, bias=False)\n",
        "        # tril is not a parameter, but a buffer. So register it.\n",
        "        self.register_buffer('tril', torch.tril(torch.ones(block_size, block_size)))\n",
        "        self.dropout = nn.Dropout(dropout_rate)\n",
        "        self.head_size = head_size\n",
        "\n",
        "    def forward(self, x, return_attention_weights=False):\n",
        "        B, T, C = x.shape # Batch, Time (seq_len), Channels (embed_dim)\n",
        "        k = self.key(x)   # (B, T, head_size)\n",
        "        q = self.query(x) # (B, T, head_size)\n",
        "        v = self.value(x) # (B, T, head_size)\n",
        "\n",
        "        # Compute attention scores (\"affinities\")\n",
        "        # (B, T, head_size) @ (B, head_size, T) -> (B, T, T)\n",
        "        wei = q @ k.transpose(-2, -1) * (self.head_size**-0.5)\n",
        "\n",
        "        # Apply causal mask (for decoder)\n",
        "        wei = wei.masked_fill(self.tril[:T, :T] == 0, float('-inf')) # (B, T, T)\n",
        "\n",
        "        attn_weights = F.softmax(wei, dim=-1) # (B, T, T)\n",
        "        attn_weights = self.dropout(attn_weights)\n",
        "\n",
        "        # Perform weighted aggregation of values\n",
        "        out = attn_weights @ v # (B, T, T) @ (B, T, head_size) -> (B, T, head_size)\n",
        "\n",
        "        if return_attention_weights:\n",
        "            return out, attn_weights\n",
        "        return out\n",
        "\n",
        "class MultiHeadAttention(nn.Module):\n",
        "    \"\"\"Multiple heads of self-attention in parallel\"\"\"\n",
        "    def __init__(self, num_heads, embed_dim, block_size, dropout_rate):\n",
        "        super().__init__()\n",
        "        assert embed_dim % num_heads == 0, \"embed_dim must be divisible by num_heads\"\n",
        "        head_size = embed_dim // num_heads\n",
        "        self.heads = nn.ModuleList([Head(embed_dim, head_size, block_size, dropout_rate) for _ in range(num_heads)])\n",
        "        self.proj = nn.Linear(embed_dim, embed_dim) # Projection back to residual pathway\n",
        "        self.dropout = nn.Dropout(dropout_rate)\n",
        "        self.num_heads = num_heads\n",
        "\n",
        "    def forward(self, x, return_attention_weights=False):\n",
        "        # x: (B, T, C)\n",
        "        head_outputs = []\n",
        "        all_attn_weights = [] # To store attention weights from each head for visualization\n",
        "\n",
        "        for head_idx, head_module in enumerate(self.heads):\n",
        "            if return_attention_weights:\n",
        "                out, attn = head_module(x, return_attention_weights=True)\n",
        "                head_outputs.append(out)\n",
        "                all_attn_weights.append(attn.unsqueeze(1)) # Add a head dimension: (B, 1, T, T)\n",
        "            else:\n",
        "                head_outputs.append(head_module(x))\n",
        "\n",
        "        # Concatenate head outputs along the last dimension (channel/feature dimension)\n",
        "        # Each head_output is (B, T, head_size). Concatenating num_heads of them gives (B, T, num_heads * head_size) = (B, T, embed_dim)\n",
        "        concatenated_heads = torch.cat(head_outputs, dim=-1)\n",
        "\n",
        "        out = self.dropout(self.proj(concatenated_heads))\n",
        "\n",
        "        if return_attention_weights:\n",
        "            # Stack attention weights: (B, num_heads, T, T)\n",
        "            all_attn_weights_stacked = torch.cat(all_attn_weights, dim=1)\n",
        "            return out, all_attn_weights_stacked\n",
        "        return out\n",
        "\n",
        "# --- Configuration ---\n",
        "NUM_HEADS = 4 # Number of attention heads\n",
        "DROPOUT_RATE = 0.1 # Dropout rate\n",
        "# --- End Configuration ---\n",
        "\n",
        "# Example Usage & Visualization\n",
        "mha = MultiHeadAttention(num_heads=NUM_HEADS, embed_dim=EMBED_DIM, block_size=BLOCK_SIZE, dropout_rate=DROPOUT_RATE).to(device)\n",
        "embedding_layer_full = TokenAndPositionEmbedding(VOCAB_SIZE, EMBED_DIM, BLOCK_SIZE).to(device)\n",
        "\n",
        "# Create a sample input sequence (batch_size=1, seq_len=5)\n",
        "sample_input_indices = torch.randint(0, VOCAB_SIZE, (1, 5)).to(device)\n",
        "sample_embeddings = embedding_layer_full(sample_input_indices) # (1, 5, EMBED_DIM)\n",
        "\n",
        "# Get MHA output and attention weights\n",
        "mha_output, attention_weights = mha(sample_embeddings, return_attention_weights=True)\n",
        "print(\"Shape of MHA output:\", mha_output.shape) # Should be (1, 5, EMBED_DIM)\n",
        "print(\"Shape of attention weights:\", attention_weights.shape) # Should be (1, NUM_HEADS, 5, 5)\n",
        "\n",
        "# Visualization: Plot attention weights for the input\n",
        "# For simplicity, we'll plot the average attention weights across heads for the first batch item\n",
        "avg_attention_weights = attention_weights[0].mean(dim=0).cpu().detach().numpy() # (5, 5)\n",
        "\n",
        "plt.figure(figsize=(6, 5))\n",
        "plt.imshow(avg_attention_weights, cmap='viridis')\n",
        "plt.title(\"Average Attention Weights (Causal Masked)\")\n",
        "plt.xlabel(\"Key Positions (Attended To)\")\n",
        "plt.ylabel(\"Query Positions (Attending From)\")\n",
        "plt.xticks(np.arange(5))\n",
        "plt.yticks(np.arange(5))\n",
        "plt.colorbar(label=\"Attention Score\")\n",
        "plt.show()"
      ],
      "metadata": {
        "colab": {
          "base_uri": "https://localhost:8080/",
          "height": 508
        },
        "id": "xrvvlGKtpl4R",
        "outputId": "9dd0efe6-b558-483e-9669-5552ab36ac64"
      },
      "execution_count": 3,
      "outputs": [
        {
          "output_type": "stream",
          "name": "stdout",
          "text": [
            "Shape of MHA output: torch.Size([1, 5, 128])\n",
            "Shape of attention weights: torch.Size([1, 4, 5, 5])\n"
          ]
        },
        {
          "output_type": "display_data",
          "data": {
            "text/plain": [
              "<Figure size 600x500 with 2 Axes>"
            ],
            "image/png": "[encoded data removed]"
          },
          "metadata": {}
        }
      ]
    },
    {
      "cell_type": "code",
      "source": [],
      "metadata": {
        "id": "24vDfTDcponh"
      },
      "execution_count": 3,
      "outputs": []
    },
    {
      "cell_type": "markdown",
      "source": [
        "Question: How does the number of heads affect what the model learns?\n",
        "Answer:\n",
        "\n",
        "## Diverse Representations: More heads allow the model to focus on different aspects or \"representation subspaces\" of the input simultaneously. For example, one head might learn syntactic dependencies, another might focus on semantic relationships between specific words, and another might track long-range dependencies.\n",
        "## Parallelism: Conceptually, the computations for each head can be done in parallel, making the model efficient.\n",
        "## Specialization vs. Redundancy: With too few heads, the model might struggle to capture all necessary types of relationships. With too many heads, each head has a smaller dimensional subspace (head_size = embed_dim / num_heads). If head_size becomes too small, individual heads might lack the capacity to learn complex patterns. There's also a risk of redundancy where multiple heads learn similar things.\n",
        "## Information Integration: The final linear projection after concatenating head outputs helps to integrate the information learned by different heads into a unified representation.\n",
        "## Stabilizing Learning: Using multiple heads can sometimes lead to more stable and robust learning than a single, larger attention mechanism.\n",
        "## In essence, num_heads is a hyperparameter that controls the model's capacity to learn diverse attention patterns."
      ],
      "metadata": {
        "id": "f1-relsTpqbi"
      }
    },
    {
      "cell_type": "markdown",
      "source": [
        "# 3. Feed-Forward Network (FFN)\n",
        "The FFN is applied independently to each position after the self-attention layer. It typically consists of two linear transformations with a non-linearity in between. The diagram shows GELU."
      ],
      "metadata": {
        "id": "cLe9SpmUp8lV"
      }
    },
    {
      "cell_type": "code",
      "source": [
        "class FeedForward(nn.Module):\n",
        "    \"\"\"A simple linear layer followed by a non-linearity, then another linear layer.\"\"\"\n",
        "    def __init__(self, embed_dim, dropout_rate):\n",
        "        super().__init__()\n",
        "        self.net = nn.Sequential(\n",
        "            nn.Linear(embed_dim, 4 * embed_dim), # Expansion layer (common practice)\n",
        "            nn.GELU(),                           # As per the diagram\n",
        "            nn.Linear(4 * embed_dim, embed_dim), # Projection back to residual pathway\n",
        "            nn.Dropout(dropout_rate)\n",
        "        )\n",
        "\n",
        "    def forward(self, x):\n",
        "        return self.net(x)\n",
        "\n",
        "# Example Usage & Visualization\n",
        "ffn = FeedForward(embed_dim=EMBED_DIM, dropout_rate=DROPOUT_RATE).to(device)\n",
        "sample_ffn_input = mha_output # Use output from MHA example (1, 5, EMBED_DIM)\n",
        "\n",
        "# Output before activation (within the FFN)\n",
        "intermediate_linear_output = ffn.net[0](sample_ffn_input) # (1, 5, 4*EMBED_DIM)\n",
        "activated_output = ffn.net[1](intermediate_linear_output) # GELU applied\n",
        "final_ffn_output = ffn(sample_ffn_input) # (1, 5, EMBED_DIM)\n",
        "\n",
        "print(\"Shape of FFN output:\", final_ffn_output.shape)\n",
        "\n",
        "# Visualization: Print output distribution before/after activation function (for one token)\n",
        "# We'll look at the first token's features\n",
        "token_intermediate = intermediate_linear_output[0, 0, :].cpu().detach().numpy()\n",
        "token_activated = activated_output[0, 0, :].cpu().detach().numpy()\n",
        "\n",
        "plt.figure(figsize=(12, 5))\n",
        "plt.subplot(1, 2, 1)\n",
        "plt.hist(token_intermediate, bins=50, color='blue', alpha=0.7)\n",
        "plt.title(\"Output Distribution Before GELU (1st token)\")\n",
        "plt.xlabel(\"Value\")\n",
        "plt.ylabel(\"Frequency\")\n",
        "\n",
        "plt.subplot(1, 2, 2)\n",
        "plt.hist(token_activated, bins=50, color='green', alpha=0.7)\n",
        "plt.title(\"Output Distribution After GELU (1st token)\")\n",
        "plt.xlabel(\"Value\")\n",
        "plt.ylabel(\"Frequency\")\n",
        "plt.tight_layout()\n",
        "plt.show()\n",
        "\n",
        "print(f\"Mean before GELU: {token_intermediate.mean():.4f}, Std before GELU: {token_intermediate.std():.4f}\")\n",
        "print(f\"Mean after GELU: {token_activated.mean():.4f}, Std after GELU: {token_activated.std():.4f}\")"
      ],
      "metadata": {
        "colab": {
          "base_uri": "https://localhost:8080/",
          "height": 558
        },
        "id": "7_xQ56fOp95G",
        "outputId": "d0ff76b7-3fa5-46f5-8843-18a4445c5e34"
      },
      "execution_count": 4,
      "outputs": [
        {
          "output_type": "stream",
          "name": "stdout",
          "text": [
            "Shape of FFN output: torch.Size([1, 5, 128])\n"
          ]
        },
        {
          "output_type": "display_data",
          "data": {
            "text/plain": [
              "<Figure size 1200x500 with 2 Axes>"
            ],
            "image/png": "[encoded data removed]"
          },
          "metadata": {}
        },
        {
          "output_type": "stream",
          "name": "stdout",
          "text": [
            "Mean before GELU: 0.0034, Std before GELU: 0.2741\n",
            "Mean after GELU: 0.0306, Std after GELU: 0.1414\n"
          ]
        }
      ]
    },
    {
      "cell_type": "markdown",
      "source": [
        "# GELU (Gaussian Error Linear Unit) often leads to outputs that are not strictly positive like ReLU, and can sometimes help with smoother optimization landscapes."
      ],
      "metadata": {
        "id": "I_SYnmvVqFlC"
      }
    },
    {
      "cell_type": "markdown",
      "source": [
        "# 4. Transformer Block\n",
        "A Transformer block combines Multi-Head Attention and a Feed-Forward Network, each followed by a residual connection and layer normalization. The diagram shows LayerNorm before the sub-layer (MHA/FFN) and then a residual connection, which is a common \"Pre-LN\" variant."
      ],
      "metadata": {
        "id": "weLP8KaLqLIB"
      }
    },
    {
      "cell_type": "markdown",
      "source": [],
      "metadata": {
        "id": "pZAnG97eqPwn"
      }
    },
    {
      "cell_type": "code",
      "source": [
        "class TransformerBlock(nn.Module):\n",
        "    \"\"\"Transformer block: communication followed by computation\"\"\"\n",
        "    def __init__(self, embed_dim, num_heads, block_size, dropout_rate):\n",
        "        super().__init__()\n",
        "        self.ln1 = nn.LayerNorm(embed_dim)\n",
        "        self.sa = MultiHeadAttention(num_heads, embed_dim, block_size, dropout_rate) # sa = self-attention\n",
        "        self.ln2 = nn.LayerNorm(embed_dim)\n",
        "        self.ffwd = FeedForward(embed_dim, dropout_rate)\n",
        "\n",
        "    def forward(self, x, return_attention_weights=False):\n",
        "        # x: (B, T, C)\n",
        "        # Pre-LN variant: Norm -> Sublayer -> Residual\n",
        "        attn_output = None # For optional return\n",
        "\n",
        "        # Self-Attention part\n",
        "        sa_input = self.ln1(x)\n",
        "        if return_attention_weights:\n",
        "            sa_out, attn_weights = self.sa(sa_input, return_attention_weights=True)\n",
        "            attn_output = attn_weights\n",
        "        else:\n",
        "            sa_out = self.sa(sa_input)\n",
        "        x = x + sa_out # Residual connection\n",
        "\n",
        "        # Feed-Forward part\n",
        "        ffwd_out = self.ffwd(self.ln2(x))\n",
        "        x = x + ffwd_out # Residual connection\n",
        "\n",
        "        if return_attention_weights:\n",
        "            return x, attn_output\n",
        "        return x\n",
        "\n",
        "# Example Usage\n",
        "NUM_LAYERS = 2 # Simplified model, more than 1 as requested\n",
        "transformer_block = TransformerBlock(embed_dim=EMBED_DIM, num_heads=NUM_HEADS, block_size=BLOCK_SIZE, dropout_rate=DROPOUT_RATE).to(device)\n",
        "\n",
        "# Use the output from the embedding layer as input to the first block\n",
        "block_input = sample_embeddings # (1, 5, EMBED_DIM)\n",
        "block_output, block_attn_weights = transformer_block(block_input, return_attention_weights=True)\n",
        "\n",
        "print(\"Shape of Transformer Block output:\", block_output.shape) # (1, 5, EMBED_DIM)\n",
        "if block_attn_weights is not None:\n",
        "    print(\"Shape of Transformer Block attention weights:\", block_attn_weights.shape) # (1, NUM_HEADS, 5, 5)"
      ],
      "metadata": {
        "colab": {
          "base_uri": "https://localhost:8080/"
        },
        "id": "plE2W6wyqRsA",
        "outputId": "d937b889-a95c-42c6-80dd-9899377ee058"
      },
      "execution_count": 5,
      "outputs": [
        {
          "output_type": "stream",
          "name": "stdout",
          "text": [
            "Shape of Transformer Block output: torch.Size([1, 5, 128])\n",
            "Shape of Transformer Block attention weights: torch.Size([1, 4, 5, 5])\n"
          ]
        }
      ]
    },
    {
      "cell_type": "markdown",
      "source": [
        "Question: How do residuals help in deep networks?\n",
        "# Answer:\n",
        "Residual connections (or skip connections) are crucial for training deep neural networks effectively. They help by:\n",
        "\n",
        "Combating Vanishing/Exploding Gradients: In very deep networks, gradients can become extremely small (vanish) or large (explode) as they are backpropagated through many layers. Residual connections provide a \"shortcut\" for the gradient to flow through. The gradient can bypass some layers, making it easier for earlier layers to receive stronger gradient signals.\n",
        "Enabling Deeper Architectures: By mitigating the gradient problem, residual connections allow for the construction and successful training of much deeper networks than would otherwise be possible.\n",
        "Easing Optimization: They make it easier for layers to learn an identity mapping. If a layer is not beneficial, the network can learn to effectively \"skip\" it by driving its weights towards zero, and the residual connection will simply pass the input through. This means adding more layers is less likely to hurt performance; at worst, they learn identity.\n",
        "Improving Feature Propagation: They allow features learned in earlier layers to be directly accessible to later layers, facilitating better information flow and reuse of features throughout the network."
      ],
      "metadata": {
        "id": "1gsx1u9OqVdd"
      }
    },
    {
      "cell_type": "markdown",
      "source": [
        "# 5. Text Generation Function\n",
        "This function will take a trained model and a starting prompt to generate new text."
      ],
      "metadata": {
        "id": "6HnH1UqcqcKI"
      }
    },
    {
      "cell_type": "code",
      "source": [
        "# This function will be used with the full model later.\n",
        "# For now, we define it conceptually. We need a model that outputs logits.\n",
        "\n",
        "# Let's define a dummy model for testing generate() structure, actual model will be GPTModel\n",
        "class DummyGPTModel(nn.Module):\n",
        "    def __init__(self, vocab_size, embed_dim, block_size, num_heads, num_layers, dropout_rate):\n",
        "        super().__init__()\n",
        "        self.token_embedding_table = TokenAndPositionEmbedding(vocab_size, embed_dim, block_size)\n",
        "        self.blocks = nn.Sequential(*[TransformerBlock(embed_dim, num_heads, block_size, dropout_rate) for _ in range(num_layers)])\n",
        "        self.ln_f = nn.LayerNorm(embed_dim) # final layer norm\n",
        "        self.lm_head = nn.Linear(embed_dim, vocab_size)\n",
        "        self.block_size = block_size\n",
        "\n",
        "    def forward(self, idx, targets=None, return_attention_weights=False):\n",
        "        B, T = idx.shape\n",
        "        x = self.token_embedding_table(idx) # (B,T,C)\n",
        "\n",
        "        # If we want all attention weights, we need to iterate through blocks\n",
        "        all_block_attentions = []\n",
        "        if return_attention_weights:\n",
        "            for block in self.blocks:\n",
        "                x, attn_weights = block(x, return_attention_weights=True)\n",
        "                all_block_attentions.append(attn_weights.unsqueeze(1)) # (B, 1, H, T, T)\n",
        "            if all_block_attentions:\n",
        "                 # Stack along new layer dimension: (B, NumLayers, H, T, T)\n",
        "                all_block_attentions = torch.cat(all_block_attentions, dim=1)\n",
        "        else:\n",
        "            x = self.blocks(x) # (B,T,C)\n",
        "\n",
        "        x = self.ln_f(x) # (B,T,C)\n",
        "        logits = self.lm_head(x) # (B,T,vocab_size)\n",
        "\n",
        "        loss = None\n",
        "        if targets is not None:\n",
        "            # Reshape for cross_entropy: logits (B*T, vocab_size), targets (B*T)\n",
        "            B_loss, T_loss, C_loss = logits.shape\n",
        "            logits_for_loss = logits.view(B_loss*T_loss, C_loss)\n",
        "            targets_for_loss = targets.view(B_loss*T_loss)\n",
        "            loss = F.cross_entropy(logits_for_loss, targets_for_loss)\n",
        "\n",
        "        if return_attention_weights:\n",
        "            return logits, loss, all_block_attentions\n",
        "        return logits, loss\n",
        "\n",
        "# --- Create a dummy model instance for generate function ---\n",
        "# We'll use smaller params for this dummy test if not already defined\n",
        "temp_vocab_size = VOCAB_SIZE if 'VOCAB_SIZE' in globals() else 20\n",
        "temp_embed_dim = EMBED_DIM if 'EMBED_DIM' in globals() else 32\n",
        "temp_block_size = BLOCK_SIZE if 'BLOCK_SIZE' in globals() else 16\n",
        "temp_num_heads = NUM_HEADS if 'NUM_HEADS' in globals() else 2\n",
        "temp_num_layers = NUM_LAYERS if 'NUM_LAYERS' in globals() else 1\n",
        "temp_dropout = DROPOUT_RATE if 'DROPOUT_RATE' in globals() else 0.1\n",
        "\n",
        "dummy_model = DummyGPTModel(temp_vocab_size, temp_embed_dim, temp_block_size,\n",
        "                            temp_num_heads, temp_num_layers, temp_dropout).to(device)\n",
        "dummy_model.eval() # Set to evaluation mode for generation\n",
        "\n",
        "# Dummy tokenizer (int to char, char to int)\n",
        "dummy_itos = {i: chr(97+i) for i in range(temp_vocab_size)} # a, b, c...\n",
        "dummy_stoi = {chr(97+i): i for i in range(temp_vocab_size)}\n",
        "\n",
        "def generate_text(model, prompt_input, max_new_tokens,\n",
        "                  tokenizer_stoi, tokenizer_itos, block_size,\n",
        "                  temperature=1.0, top_k=None, do_sample=True, num_beams=1):\n",
        "    \"\"\"\n",
        "    Generates text using the model.\n",
        "    Args:\n",
        "        model: The language model.\n",
        "        prompt_input (str or list[int]): The starting prompt, either as a string or list of token IDs.\n",
        "        max_new_tokens (int): Maximum number of new tokens to generate.\n",
        "        tokenizer_stoi (dict): String-to-integer token mapping.\n",
        "        tokenizer_itos (dict): Integer-to-string token mapping.\n",
        "        block_size (int): Context window size for the model.\n",
        "        temperature (float): Softmax temperature for sampling.\n",
        "        top_k (int, optional): Top-k filtering for sampling.\n",
        "        do_sample (bool): Whether to sample or use greedy decoding.\n",
        "        num_beams (int): Number of beams for beam search (simplified to greedy if > 1 in this impl).\n",
        "    Returns:\n",
        "        str: The generated text, including the prompt.\n",
        "    \"\"\"\n",
        "    model.eval()\n",
        "\n",
        "    # Initialize current_indices (list of integer token IDs) based on prompt_input\n",
        "    if isinstance(prompt_input, str):\n",
        "        initial_indices = [tokenizer_stoi.get(c, 0) for c in prompt_input] # Default to 0 for unknown char\n",
        "    elif isinstance(prompt_input, list) and all(isinstance(x, int) for x in prompt_input):\n",
        "        initial_indices = prompt_input\n",
        "    else:\n",
        "        # Attempt to handle if prompt_input is a tensor (e.g. from previous idx)\n",
        "        try:\n",
        "            temp_list = prompt_input.tolist() # If it's a PyTorch tensor\n",
        "            # If it was a 2D tensor like [[1,2,3]], take the first row (batch item)\n",
        "            if isinstance(temp_list, list) and len(temp_list) > 0 and isinstance(temp_list[0], list):\n",
        "                initial_indices = temp_list[0]\n",
        "            else:\n",
        "                initial_indices = temp_list # Assume it became a 1D list of ints\n",
        "\n",
        "            if not (isinstance(initial_indices, list) and all(isinstance(x, int) for x in initial_indices)):\n",
        "                raise ValueError(\"Converted prompt_input is not a valid list of ints.\")\n",
        "        except Exception as e:\n",
        "            raise TypeError(\n",
        "                f\"prompt_input for generate_text must be a string, a list of integer token IDs, or a convertible tensor. \"\n",
        "                f\"Got {type(prompt_input)}. Conversion error: {e}\"\n",
        "            )\n",
        "\n",
        "    idx = torch.tensor(initial_indices, dtype=torch.long, device=device).unsqueeze(0) # Shape: (1, T_prompt)\n",
        "\n",
        "    all_token_indices_list = initial_indices[:] # This will store all token IDs (prompt + generated)\n",
        "\n",
        "    # Simplified beam search handling (defaults to greedy if num_beams > 1)\n",
        "    if num_beams > 1 and do_sample:\n",
        "        print(\"Warning: Beam search is typically used with greedy decoding (do_sample=False). Using sampling with beams.\")\n",
        "    if num_beams > 1:\n",
        "        print(\"Note: True beam search is complex. This simplified version for num_beams > 1 will use greedy decoding.\")\n",
        "        do_sample = False # Force greedy for simplified \"beam search\"\n",
        "\n",
        "    for _ in range(max_new_tokens):\n",
        "        # Crop idx to the last block_size tokens if it's too long for model input\n",
        "        idx_cond = idx if idx.size(1) <= block_size else idx[:, -block_size:]\n",
        "\n",
        "        with torch.no_grad():\n",
        "            logits, _ = model(idx_cond) # Get logits from model\n",
        "\n",
        "        # Focus only on the logits for the last token in the sequence\n",
        "        logits = logits[:, -1, :] # Shape: (B, vocab_size), B=1 here\n",
        "\n",
        "        if do_sample:\n",
        "            # Apply temperature\n",
        "            logits = logits / temperature\n",
        "\n",
        "            # Optionally apply top-k filtering\n",
        "            if top_k is not None:\n",
        "                v, _ = torch.topk(logits, min(top_k, logits.size(-1)))\n",
        "                # Set logits for tokens not in top-k to -infinity\n",
        "                logits[logits < v[:, [-1]]] = -float('Inf')\n",
        "\n",
        "            # Apply softmax to get probabilities\n",
        "            probs = F.softmax(logits, dim=-1) # Shape: (B, vocab_size)\n",
        "\n",
        "            # Sample from the distribution\n",
        "            idx_next = torch.multinomial(probs, num_samples=1) # Shape: (B, 1)\n",
        "        else: # Greedy decoding\n",
        "            _, idx_next = torch.topk(logits, k=1, dim=-1) # Shape: (B, 1)\n",
        "\n",
        "        next_token_id = idx_next.item() # Get the integer token ID\n",
        "        all_token_indices_list.append(next_token_id) # Add to our list of all tokens\n",
        "\n",
        "        # Append sampled index to the running sequence for the next iteration\n",
        "        idx = torch.cat((idx, idx_next), dim=1) # Shape: (B, T+1)\n",
        "\n",
        "    return \"\".join([tokenizer_itos.get(i, '?') for i in all_token_indices_list]) # Return the decoded string\n",
        "\n",
        "\n",
        "# Visualization: Compare outputs (using dummy model for now, will re-run with trained model)\n",
        "print(\"--- Text Generation (Dummy Model) ---\")\n",
        "prompt = \"ab\" # Needs to be chars in dummy_stoi\n",
        "max_tokens_gen = 10\n",
        "\n",
        "# Note: The dummy model is untrained, so outputs will be random-like.\n",
        "# We demonstrate the different decoding strategies.\n",
        "\n",
        "output_greedy = generate_text(dummy_model, prompt, max_tokens_gen, dummy_stoi, dummy_itos, temp_block_size, do_sample=False)\n",
        "print(f\"Greedy (do_sample=False): '{output_greedy}'\")\n",
        "\n",
        "output_sample_temp1_2 = generate_text(dummy_model, prompt, max_tokens_gen, dummy_stoi, dummy_itos, temp_block_size, temperature=1.2, do_sample=True)\n",
        "print(f\"Sampling (temp=1.2): '{output_sample_temp1_2}'\")\n",
        "\n",
        "# For top_k example\n",
        "output_sample_topk = generate_text(dummy_model, prompt, max_tokens_gen, dummy_stoi, dummy_itos, temp_block_size, temperature=0.7, top_k=3, do_sample=True)\n",
        "print(f\"Sampling (temp=0.7, top_k=3): '{output_sample_topk}'\")\n",
        "\n",
        "# \"Beam search\" (simplified - will effectively be greedy for this implementation)\n",
        "output_beam = generate_text(dummy_model, prompt, max_tokens_gen, dummy_stoi, dummy_itos, temp_block_size, num_beams=3)\n",
        "print(f\"Beam Search (num_beams=3, simplified to greedy): '{output_beam}'\")\n",
        "\n",
        "# Note on Beam Search:\n",
        "# A full, correct beam search implementation is significantly more involved. It requires maintaining `num_beams`\n",
        "# separate hypotheses (sequences) at each step, expanding each, scoring them (usually by log probabilities),\n",
        "# and then selecting the top `num_beams` overall hypotheses to continue.\n",
        "# For production use, libraries like Hugging Face `transformers` provide robust beam search.\n",
        "# The `num_beams` parameter in the `generate` function of HF transformers enables this."
      ],
      "metadata": {
        "colab": {
          "base_uri": "https://localhost:8080/"
        },
        "id": "lkVD_DkxqSLD",
        "outputId": "bf8744dc-5daf-4cb4-b409-26d135024fbb"
      },
      "execution_count": 6,
      "outputs": [
        {
          "output_type": "stream",
          "name": "stdout",
          "text": [
            "--- Text Generation (Dummy Model) ---\n",
            "Greedy (do_sample=False): 'abzlidz'\n",
            "Sampling (temp=1.2): 'ab¡q}fpe}h'\n",
            "Sampling (temp=0.7, top_k=3): 'abt dz'\n",
            "Warning: Beam search is typically used with greedy decoding (do_sample=False). Using sampling with beams.\n",
            "Note: True beam search is complex. This simplified version for num_beams > 1 will use greedy decoding.\n",
            "Beam Search (num_beams=3, simplified to greedy): 'abzlidz'\n"
          ]
        }
      ]
    },
    {
      "cell_type": "code",
      "source": [],
      "metadata": {
        "id": "ODiK9qBNqmM2"
      },
      "execution_count": 6,
      "outputs": []
    },
    {
      "cell_type": "markdown",
      "source": [
        "# 6. Full Model Integration & Training\n",
        "We'll assemble all components into a GPTModel class and train it on a small dataset (e.g., Shakespeare)."
      ],
      "metadata": {
        "id": "62b_JAIrqp26"
      }
    },
    {
      "cell_type": "code",
      "source": [
        "# --- Full Model Class ---\n",
        "class GPTModel(nn.Module):\n",
        "    def __init__(self, vocab_size, embed_dim, block_size, num_heads, num_layers, dropout_rate):\n",
        "        super().__init__()\n",
        "        self.vocab_size = vocab_size\n",
        "        self.embed_dim = embed_dim\n",
        "        self.block_size = block_size\n",
        "        self.num_heads = num_heads\n",
        "        self.num_layers = num_layers\n",
        "        self.dropout_rate = dropout_rate\n",
        "\n",
        "        self.token_and_position_embedding = TokenAndPositionEmbedding(vocab_size, embed_dim, block_size)\n",
        "\n",
        "        # Transformer blocks\n",
        "        # Note: nn.Sequential doesn't easily allow passing extra args like return_attention_weights\n",
        "        # to intermediate modules if we want to collect them. So, use nn.ModuleList.\n",
        "        self.blocks = nn.ModuleList(\n",
        "            [TransformerBlock(embed_dim, num_heads, block_size, dropout_rate) for _ in range(num_layers)] #3 layers as you have specified in the diagram\n",
        "        )\n",
        "\n",
        "        self.ln_f = nn.LayerNorm(embed_dim) # Final LayerNorm\n",
        "        self.lm_head = nn.Linear(embed_dim, vocab_size) # Output linear layer\n",
        "\n",
        "    def forward(self, idx, targets=None, return_attention_weights_all_layers=False):\n",
        "        B, T = idx.shape\n",
        "        x = self.token_and_position_embedding(idx) # (B, T, C_embed)\n",
        "\n",
        "        all_layer_attentions = [] # List to store attention weights from each block\n",
        "\n",
        "        for i, block in enumerate(self.blocks):\n",
        "            if return_attention_weights_all_layers:\n",
        "                x, attn_weights_one_block = block(x, return_attention_weights=True) # attn_weights_one_block: (B, H, T, T)\n",
        "                all_layer_attentions.append(attn_weights_one_block.unsqueeze(1)) # Add layer dim: (B, 1, H, T, T)\n",
        "            else:\n",
        "                x = block(x)\n",
        "\n",
        "        x = self.ln_f(x)\n",
        "        logits = self.lm_head(x) # (B, T, vocab_size)\n",
        "\n",
        "        loss = None\n",
        "        if targets is not None:\n",
        "            # Reshape for cross_entropy\n",
        "            B_loss, T_loss, C_loss = logits.shape\n",
        "            logits_for_loss = logits.view(B_loss*T_loss, C_loss)\n",
        "            targets_for_loss = targets.view(B_loss*T_loss)\n",
        "            loss = F.cross_entropy(logits_for_loss, targets_for_loss)\n",
        "\n",
        "        if return_attention_weights_all_layers and all_layer_attentions:\n",
        "            # Stack along the new layer dimension: (B, NumLayers, H, T, T)\n",
        "            stacked_attentions = torch.cat(all_layer_attentions, dim=1)\n",
        "            return logits, loss, stacked_attentions\n",
        "        elif return_attention_weights_all_layers: # No attentions collected (e.g. num_layers=0)\n",
        "            return logits, loss, None\n",
        "\n",
        "        return logits, loss\n",
        "\n",
        "    def get_num_params(self):\n",
        "        return sum(p.numel() for p in self.parameters() if p.requires_grad)"
      ],
      "metadata": {
        "id": "gGWaSWbFqrDq"
      },
      "execution_count": 7,
      "outputs": []
    },
    {
      "cell_type": "code",
      "source": [
        "\n",
        "# --- Dataset and Tokenizer ---\n",
        "# Download Shakespeare dataset\n",
        "url = \"https://raw.githubusercontent.com/karpathy/char-rnn/master/data/tinyshakespeare/input.txt\"\n",
        "response = requests.get(url)\n",
        "text = response.text\n",
        "print(f\"Length of dataset in characters: {len(text)}\")"
      ],
      "metadata": {
        "colab": {
          "base_uri": "https://localhost:8080/"
        },
        "id": "eAZYUAzct7zo",
        "outputId": "d00e40d5-134f-43b6-e369-055022d1e380"
      },
      "execution_count": 8,
      "outputs": [
        {
          "output_type": "stream",
          "name": "stdout",
          "text": [
            "Length of dataset in characters: 1115394\n"
          ]
        }
      ]
    },
    {
      "cell_type": "code",
      "source": [
        "\n",
        "# Create character-level tokenizer\n",
        "chars = sorted(list(set(text)))\n",
        "actual_vocab_size = len(chars)\n",
        "print(f\"Actual vocabulary size: {actual_vocab_size}\")\n",
        "print(\"Vocabulary:\", ''.join(chars))"
      ],
      "metadata": {
        "colab": {
          "base_uri": "https://localhost:8080/"
        },
        "id": "rCoh_7Kdt8Up",
        "outputId": "0829728b-a255-415a-d0cd-32286b75b4c3"
      },
      "execution_count": 9,
      "outputs": [
        {
          "output_type": "stream",
          "name": "stdout",
          "text": [
            "Actual vocabulary size: 65\n",
            "Vocabulary: \n",
            " !$&',-.3:;?ABCDEFGHIJKLMNOPQRSTUVWXYZabcdefghijklmnopqrstuvwxyz\n"
          ]
        }
      ]
    },
    {
      "cell_type": "code",
      "source": [
        "\n",
        "stoi = {ch: i for i, ch in enumerate(chars)}\n",
        "itos = {i: ch for i, ch in enumerate(chars)}\n",
        "encode = lambda s: [stoi[c] for c in s]\n",
        "decode = lambda l: ''.join([itos[i] for i in l])\n",
        "\n",
        "# Train and test splits\n",
        "data = torch.tensor(encode(text), dtype=torch.long)\n",
        "n = int(0.9 * len(data))\n",
        "train_data = data[:n]\n",
        "val_data = data[n:]"
      ],
      "metadata": {
        "id": "XY1MevGXt8dd"
      },
      "execution_count": 10,
      "outputs": []
    },
    {
      "cell_type": "code",
      "source": [
        "\n",
        "# Data loader\n",
        "def get_batch(split, batch_size, block_size_data):\n",
        "    data_source = train_data if split == 'train' else val_data\n",
        "    ix = torch.randint(len(data_source) - block_size_data, (batch_size,))\n",
        "    x = torch.stack([data_source[i:i+block_size_data] for i in ix])\n",
        "    y = torch.stack([data_source[i+1:i+block_size_data+1] for i in ix])\n",
        "    return x.to(device), y.to(device)"
      ],
      "metadata": {
        "id": "UIwomlYht8i8"
      },
      "execution_count": 11,
      "outputs": []
    },
    {
      "cell_type": "markdown",
      "source": [
        "# --- Model Configuration and Instantiation ---\n",
        "# Using the parameters defined earlier, but with actual_vocab_size"
      ],
      "metadata": {
        "id": "suIBsuaDuRoU"
      }
    },
    {
      "cell_type": "code",
      "source": [
        "\n",
        "FINAL_VOCAB_SIZE = actual_vocab_size # Should be 65 for tinyshakespeare\n",
        "FINAL_EMBED_DIM = 128  # Keeping it small\n",
        "FINAL_BLOCK_SIZE = 64  # Max context for training/generation\n",
        "FINAL_NUM_HEADS = 4\n",
        "FINAL_NUM_LAYERS = 3   # A bit deeper\n",
        "FINAL_DROPOUT_RATE = 0.1\n",
        "\n",
        "model = GPTModel(\n",
        "    vocab_size=FINAL_VOCAB_SIZE,\n",
        "    embed_dim=FINAL_EMBED_DIM,\n",
        "    block_size=FINAL_BLOCK_SIZE,\n",
        "    num_heads=FINAL_NUM_HEADS,\n",
        "    num_layers=FINAL_NUM_LAYERS,\n",
        "    dropout_rate=FINAL_DROPOUT_RATE\n",
        ").to(device)\n",
        "\n",
        "\n",
        "print(f\"Model created with {model.get_num_params():,} parameters.\")\n",
        "# Example: GPT-2 small has 117M parameters. Ours is much smaller."
      ],
      "metadata": {
        "colab": {
          "base_uri": "https://localhost:8080/"
        },
        "id": "iKDkMYxbuR0R",
        "outputId": "adfec03b-5480-4a36-9597-72a8682d0d5b"
      },
      "execution_count": 12,
      "outputs": [
        {
          "output_type": "stream",
          "name": "stdout",
          "text": [
            "Model created with 618,817 parameters.\n"
          ]
        }
      ]
    },
    {
      "cell_type": "markdown",
      "source": [
        "# so my model has 618,817 parameters instead of the original 124m parameters. I reduced the layers to 3 and embedding size to 128"
      ],
      "metadata": {
        "id": "e3LEZCeXzQS6"
      }
    },
    {
      "cell_type": "markdown",
      "source": [
        "\n",
        "# --- Training Loop ---"
      ],
      "metadata": {
        "id": "sskqScn-uiXK"
      }
    },
    {
      "cell_type": "code",
      "source": [
        "\n",
        "optimizer = torch.optim.AdamW(model.parameters(), lr=1e-3) # A common learning rate\n",
        "batch_size = 32\n",
        "num_epochs = 1 # For quick demo, increase for better results (e.g., 5-10 epochs / 5000+ iterations)\n",
        "max_iters = 2000 # Let's use iterations instead of epochs for more control\n",
        "eval_interval = 200\n",
        "eval_iters = 100 # Number of batches to average for validation loss\n",
        "\n",
        "train_losses = []\n",
        "val_losses = {}\n",
        "\n",
        "print(f\"\\n--- Starting Training (Simplified Model) ---\")\n",
        "print(f\"Vocab Size: {FINAL_VOCAB_SIZE}, Embed Dim: {FINAL_EMBED_DIM}, Block Size: {FINAL_BLOCK_SIZE}\")\n",
        "print(f\"Num Heads: {FINAL_NUM_HEADS}, Num Layers: {FINAL_NUM_LAYERS}\")"
      ],
      "metadata": {
        "colab": {
          "base_uri": "https://localhost:8080/"
        },
        "id": "noIgn_q0uR6A",
        "outputId": "f7b613cb-7e20-452e-aa4d-11073a61499b"
      },
      "execution_count": 13,
      "outputs": [
        {
          "output_type": "stream",
          "name": "stdout",
          "text": [
            "\n",
            "--- Starting Training (Simplified Model) ---\n",
            "Vocab Size: 65, Embed Dim: 128, Block Size: 64\n",
            "Num Heads: 4, Num Layers: 3\n"
          ]
        }
      ]
    },
    {
      "cell_type": "code",
      "source": [
        "\n",
        "model.eval() # Set to evaluation mode\n",
        "prompt_before_train = \"The future of AI is\"\n",
        "# Ensure 'encode' is defined from your tokenizer setup:\n",
        "# encode = lambda s: [stoi[c] for c in s]\n",
        "encoded_prompt = encode(prompt_before_train) # Define encoded_prompt HERE\n",
        "\n",
        "generated_text_before = generate_text(\n",
        "    model, encoded_prompt, max_new_tokens=50, # Now encoded_prompt is defined\n",
        "    tokenizer_stoi=stoi, tokenizer_itos=itos, block_size=FINAL_BLOCK_SIZE,\n",
        "    do_sample=True, temperature=0.7\n",
        ")\n",
        "print(f\"\\n--- Inference Before Training ---\")\n",
        "print(f\"Prompt: '{prompt_before_train}'\")\n",
        "print(f\"Generated: '{generated_text_before}'\") # Corrected: no decode()"
      ],
      "metadata": {
        "colab": {
          "base_uri": "https://localhost:8080/"
        },
        "id": "KXNnr-MQuR9F",
        "outputId": "5cb16bd0-e756-469c-8936-5efc64d7a4b3"
      },
      "execution_count": 16,
      "outputs": [
        {
          "output_type": "stream",
          "name": "stdout",
          "text": [
            "\n",
            "--- Inference Before Training ---\n",
            "Prompt: 'The future of AI is'\n",
            "Generated: 'The future of AI iseDnqTUkSPp:ycOnXuGHeQtKmXEP-$AY3xK3RpOwClCBMIwITP$'\n"
          ]
        }
      ]
    },
    {
      "cell_type": "code",
      "source": [
        "\n",
        "\n",
        "model.train() # Set back to training mode\n",
        "for iter_num in range(max_iters):\n",
        "    # Sample a batch of data\n",
        "    xb, yb = get_batch('train', batch_size, FINAL_BLOCK_SIZE)\n",
        "\n",
        "    # Forward pass\n",
        "    logits, loss = model(xb, yb)\n",
        "\n",
        "    # Backward pass and optimization\n",
        "    optimizer.zero_grad(set_to_none=True)\n",
        "    loss.backward()\n",
        "    optimizer.step()\n",
        "\n",
        "    train_losses.append(loss.item())\n",
        "\n",
        "    # Periodically evaluate validation loss\n",
        "    if iter_num % eval_interval == 0 or iter_num == max_iters - 1:\n",
        "        model.eval()\n",
        "        current_val_losses = []\n",
        "        with torch.no_grad():\n",
        "            for _ in range(eval_iters):\n",
        "                xv, yv = get_batch('val', batch_size, FINAL_BLOCK_SIZE)\n",
        "                _, v_loss = model(xv, yv)\n",
        "                current_val_losses.append(v_loss.item())\n",
        "        avg_val_loss = np.mean(current_val_losses)\n",
        "        val_losses[iter_num] = avg_val_loss\n",
        "        print(f\"Iter {iter_num}: Train Loss {loss.item():.4f}, Val Loss {avg_val_loss:.4f}\")\n",
        "        model.train() # Set back to training mode\n",
        "\n",
        "print(\"--- Training Complete ---\")"
      ],
      "metadata": {
        "colab": {
          "base_uri": "https://localhost:8080/"
        },
        "id": "NIKYCh5auR_8",
        "outputId": "ced0c31f-0496-45a9-c592-40a4e037f1a1"
      },
      "execution_count": 17,
      "outputs": [
        {
          "output_type": "stream",
          "name": "stdout",
          "text": [
            "Iter 0: Train Loss 4.3103, Val Loss 4.0602\n",
            "Iter 200: Train Loss 2.3163, Val Loss 2.3064\n",
            "Iter 400: Train Loss 2.0485, Val Loss 2.0956\n",
            "Iter 600: Train Loss 1.9946, Val Loss 2.0060\n",
            "Iter 800: Train Loss 1.8236, Val Loss 1.9209\n",
            "Iter 1000: Train Loss 1.8000, Val Loss 1.8842\n",
            "Iter 1200: Train Loss 1.7409, Val Loss 1.8275\n",
            "Iter 1400: Train Loss 1.6709, Val Loss 1.8127\n",
            "Iter 1600: Train Loss 1.6144, Val Loss 1.7772\n",
            "Iter 1800: Train Loss 1.7079, Val Loss 1.7588\n",
            "Iter 1999: Train Loss 1.6659, Val Loss 1.7374\n",
            "--- Training Complete ---\n"
          ]
        }
      ]
    },
    {
      "cell_type": "code",
      "source": [
        "\n",
        "# Visualization: Plot training loss\n",
        "plt.figure(figsize=(10, 5))\n",
        "plt.plot(train_losses, label=\"Training Loss\")\n",
        "plt.plot(list(val_losses.keys()), list(val_losses.values()), label=\"Validation Loss\", marker='o', linestyle='--')\n",
        "plt.xlabel(\"Iteration\")\n",
        "plt.ylabel(\"Loss\")\n",
        "plt.title(\"Training and Validation Loss Over Iterations\")\n",
        "plt.legend()\n",
        "plt.grid(True)\n",
        "plt.show()\n"
      ],
      "metadata": {
        "colab": {
          "base_uri": "https://localhost:8080/",
          "height": 487
        },
        "id": "R4SczrNXuSEJ",
        "outputId": "73948f7b-6529-4d13-c974-3d80393364d2"
      },
      "execution_count": 18,
      "outputs": [
        {
          "output_type": "display_data",
          "data": {
            "text/plain": [
              "<Figure size 1000x500 with 1 Axes>"
            ],
            "image/png": "[encoded data removed]"
          },
          "metadata": {}
        }
      ]
    },
    {
      "cell_type": "code",
      "source": [
        "\n",
        "\n",
        "# --- Inference pipeline and compare the effect before and after training ---\n",
        "model.eval() # Set to evaluation mode"
      ],
      "metadata": {
        "colab": {
          "base_uri": "https://localhost:8080/"
        },
        "id": "emKuq4dQu2M_",
        "outputId": "b4558463-2f86-4a8a-88b5-8ef16cf52368"
      },
      "execution_count": 19,
      "outputs": [
        {
          "output_type": "execute_result",
          "data": {
            "text/plain": [
              "GPTModel(\n",
              "  (token_and_position_embedding): TokenAndPositionEmbedding(\n",
              "    (token_embedding): Embedding(65, 128)\n",
              "    (position_embedding): Embedding(64, 128)\n",
              "  )\n",
              "  (blocks): ModuleList(\n",
              "    (0-2): 3 x TransformerBlock(\n",
              "      (ln1): LayerNorm((128,), eps=1e-05, elementwise_affine=True)\n",
              "      (sa): MultiHeadAttention(\n",
              "        (heads): ModuleList(\n",
              "          (0-3): 4 x Head(\n",
              "            (key): Linear(in_features=128, out_features=32, bias=False)\n",
              "            (query): Linear(in_features=128, out_features=32, bias=False)\n",
              "            (value): Linear(in_features=128, out_features=32, bias=False)\n",
              "            (dropout): Dropout(p=0.1, inplace=False)\n",
              "          )\n",
              "        )\n",
              "        (proj): Linear(in_features=128, out_features=128, bias=True)\n",
              "        (dropout): Dropout(p=0.1, inplace=False)\n",
              "      )\n",
              "      (ln2): LayerNorm((128,), eps=1e-05, elementwise_affine=True)\n",
              "      (ffwd): FeedForward(\n",
              "        (net): Sequential(\n",
              "          (0): Linear(in_features=128, out_features=512, bias=True)\n",
              "          (1): GELU(approximate='none')\n",
              "          (2): Linear(in_features=512, out_features=128, bias=True)\n",
              "          (3): Dropout(p=0.1, inplace=False)\n",
              "        )\n",
              "      )\n",
              "    )\n",
              "  )\n",
              "  (ln_f): LayerNorm((128,), eps=1e-05, elementwise_affine=True)\n",
              "  (lm_head): Linear(in_features=128, out_features=65, bias=True)\n",
              ")"
            ]
          },
          "metadata": {},
          "execution_count": 19
        }
      ]
    },
    {
      "cell_type": "code",
      "source": [
        "\n",
        "\n",
        "prompt_after_train = \"The future of AI is\"\n",
        "encoded_prompt_after = encode(prompt_after_train)\n",
        "\n",
        "# ... (model.eval(), prompt_after_train, encoded_prompt_after)\n",
        "generated_text_after_greedy = generate_text(\n",
        "    model, encoded_prompt_after, max_new_tokens=50,\n",
        "    tokenizer_stoi=stoi, tokenizer_itos=itos, block_size=FINAL_BLOCK_SIZE,\n",
        "    do_sample=False\n",
        ")\n",
        "generated_text_after_sample = generate_text(\n",
        "    model, encoded_prompt_after, max_new_tokens=50,\n",
        "    tokenizer_stoi=stoi, tokenizer_itos=itos, block_size=FINAL_BLOCK_SIZE,\n",
        "    do_sample=True, temperature=0.7, top_k=50\n",
        ")\n",
        "\n",
        "print(f\"\\n--- Inference After Training ---\")\n",
        "print(f\"Prompt: '{prompt_after_train}'\")\n",
        "# print(f\"Generated (Greedy): '{decode(generated_text_after_greedy)}'\") # OLD\n",
        "print(f\"Generated (Greedy): '{generated_text_after_greedy}'\")          # NEW\n",
        "# print(f\"Generated (Sampled t=0.7, k=50): '{decode(generated_text_after_sample)}'\") # OLD\n",
        "print(f\"Generated (Sampled t=0.7, k=50): '{generated_text_after_sample}'\")          # NEW"
      ],
      "metadata": {
        "colab": {
          "base_uri": "https://localhost:8080/"
        },
        "id": "ovbrt-Cbu2Sr",
        "outputId": "5395afb1-70ca-4647-c511-b4914f7ee5f4"
      },
      "execution_count": 20,
      "outputs": [
        {
          "output_type": "stream",
          "name": "stdout",
          "text": [
            "\n",
            "--- Inference After Training ---\n",
            "Prompt: 'The future of AI is'\n",
            "Generated (Greedy): 'The future of AI is the be the shall of the prope,\n",
            "The shall the shal'\n",
            "Generated (Sampled t=0.7, k=50): 'The future of AI is that perform the first of son!\n",
            "\n",
            "CORIOLANUS:\n",
            "A hav'\n"
          ]
        }
      ]
    },
    {
      "cell_type": "code",
      "source": [
        "# Compare generation methods as requested in Task 5\n",
        "print(\"\\n--- Task 5: Generation Method Comparison (After Training) ---\")\n",
        "# Ensure 'encode' is available here:\n",
        "# encode = lambda s: [stoi[c] for c in s]\n",
        "\n",
        "prompt_for_task5 = \"The future of AI is\"\n",
        "encoded_prompt_task5 = encode(prompt_for_task5)\n",
        "\n",
        "gen_greedy = generate_text(model, encoded_prompt_task5, 30, stoi, itos, FINAL_BLOCK_SIZE, do_sample=False)\n",
        "# print(f\"generate(\\\"The future of AI is\\\", do_sample=False):\\n'{decode(gen_greedy)}'\") # OLD - CAUSES ERROR\n",
        "print(f\"generate(\\\"{prompt_for_task5}\\\", do_sample=False):\\n'{gen_greedy}'\")          # NEW - CORRECTED\n",
        "\n",
        "gen_temp_1_2 = generate_text(model, encoded_prompt_task5, 30, stoi, itos, FINAL_BLOCK_SIZE, temperature=1.2, do_sample=True)\n",
        "# print(f\"\\ngenerate(\\\"The future of AI is\\\", temperature=1.2):\\n'{decode(gen_temp_1_2)}'\") # OLD - CAUSES ERROR\n",
        "print(f\"\\ngenerate(\\\"{prompt_for_task5}\\\", temperature=1.2):\\n'{gen_temp_1_2}'\")          # NEW - CORRECTED\n",
        "\n",
        "# For num_beams, our simplified function defaults to greedy.\n",
        "gen_beam = generate_text(model, encoded_prompt_task5, 30, stoi, itos, FINAL_BLOCK_SIZE, num_beams=3)\n",
        "# print(f\"\\ngenerate(\\\"The future of AI is\\\", num_beams=3) (Simplified to Greedy):\\n'{decode(gen_beam)}'\") # OLD - CAUSES ERROR\n",
        "print(f\"\\ngenerate(\\\"{prompt_for_task5}\\\", num_beams=3) (Simplified to Greedy):\\n'{gen_beam}'\")          # NEW - CORRECTED"
      ],
      "metadata": {
        "colab": {
          "base_uri": "https://localhost:8080/"
        },
        "id": "iZyCyRRdu2W1",
        "outputId": "58a0d21a-885c-440a-ef02-560b6fb65eb4"
      },
      "execution_count": 22,
      "outputs": [
        {
          "output_type": "stream",
          "name": "stdout",
          "text": [
            "\n",
            "--- Task 5: Generation Method Comparison (After Training) ---\n",
            "generate(\"The future of AI is\", do_sample=False):\n",
            "'The future of AI is the be the shall of the prope'\n",
            "\n",
            "generate(\"The future of AI is\", temperature=1.2):\n",
            "'The future of AI is in Mannobba Gapcouncome of ty'\n",
            "Warning: Beam search is typically used with greedy decoding (do_sample=False). Using sampling with beams.\n",
            "Note: True beam search is complex. This simplified version for num_beams > 1 will use greedy decoding.\n",
            "\n",
            "generate(\"The future of AI is\", num_beams=3) (Simplified to Greedy):\n",
            "'The future of AI is the be the shall of the prope'\n"
          ]
        }
      ]
    },
    {
      "cell_type": "markdown",
      "source": [
        "# 7. Model Evaluation (BLEU and Perplexity)\n",
        "Perplexity: A measure of how well a probability model predicts a sample. Lower perplexity indicates the model is less \"surprised\" by the test set, and thus models the data better. It's often calculated as exp(average_cross_entropy_loss).\n",
        "BLEU (Bilingual Evaluation Understudy): Measures the similarity between a machine-generated text and one or more high-quality reference texts. It looks for matching n-grams. Higher BLEU scores are better."
      ],
      "metadata": {
        "id": "X5HwFynIvOrG"
      }
    },
    {
      "cell_type": "code",
      "source": [
        "pip install warning"
      ],
      "metadata": {
        "colab": {
          "base_uri": "https://localhost:8080/"
        },
        "id": "mlnLf6Qf0-Hs",
        "outputId": "9ed60ec8-fbad-408d-f8d1-63df16f868d0"
      },
      "execution_count": 29,
      "outputs": [
        {
          "output_type": "stream",
          "name": "stdout",
          "text": [
            "\u001b[31mERROR: Could not find a version that satisfies the requirement warning (from versions: none)\u001b[0m\u001b[31m\n",
            "\u001b[0m\u001b[31mERROR: No matching distribution found for warning\u001b[0m\u001b[31m\n",
            "\u001b[0m"
          ]
        }
      ]
    },
    {
      "cell_type": "code",
      "source": [
        "import warnings\n",
        "warnings.filterwarnings('ignore')\n",
        "\n",
        "def calculate_perplexity(model, data_loader_iter_fn, eval_iters_perp, batch_size_perp, block_size_perp):\n",
        "    \"\"\"Calculates perplexity on a dataset.\"\"\"\n",
        "    model.eval()\n",
        "    total_loss = 0\n",
        "    total_tokens = 0\n",
        "    # Ensure model is on the correct device if data_loader_iter_fn produces data for a specific device\n",
        "    # model_device = next(model.parameters()).device # Get model's current device\n",
        "    with torch.no_grad():\n",
        "        for _ in range(eval_iters_perp):\n",
        "            xb, yb = data_loader_iter_fn('val', batch_size_perp, block_size_perp) # Using val set\n",
        "            # xb, yb = xb.to(model_device), yb.to(model_device) # Ensure data is on model's device\n",
        "            logits, loss = model(xb, yb)\n",
        "            if loss is None: # Should not happen if yb is provided\n",
        "                print(\"Warning: Loss is None in calculate_perplexity.\")\n",
        "                continue\n",
        "            # loss.item() is already the average loss for the batch\n",
        "            # CrossEntropyLoss by default has reduction='mean'\n",
        "            # So, multiply by the number of elements in yb (targets)\n",
        "            num_batch_tokens = yb.numel() # Total number of tokens in the targets for this batch\n",
        "            total_loss += loss.item() * num_batch_tokens\n",
        "            total_tokens += num_batch_tokens\n",
        "\n",
        "    if total_tokens == 0:\n",
        "        print(\"Warning: total_tokens is 0 in calculate_perplexity. Returning inf.\")\n",
        "        return float('inf')\n",
        "\n",
        "    avg_loss = total_loss / total_tokens\n",
        "    perplexity = math.exp(avg_loss)\n",
        "    # model.train() # No need to set model.train() here, caller should handle mode\n",
        "    return perplexity\n",
        "\n",
        "# Note: The calculate_bleu_for_dataset function provided in the prompt was not used later,\n",
        "# instead, BLEU was calculated in separate loops. I'll correct those loops.\n",
        "\n",
        "# --- Calculate Perplexity ---\n",
        "# Use val_data for perplexity calculation\n",
        "# Ensure model is in eval mode before calling\n",
        "model.eval() # Explicitly set to eval mode\n",
        "perplexity_val = calculate_perplexity(model, get_batch, eval_iters_perp=50, batch_size_perp=batch_size, block_size_perp=FINAL_BLOCK_SIZE)\n",
        "print(f\"\\n--- Model Evaluation Metrics ---\")\n",
        "print(f\"Perplexity on Validation Set: {perplexity_val:.2f}\")\n",
        "\n",
        "\n",
        "# --- Calculate BLEU ---\n",
        "# This is more meaningful for machine translation or summarization with true references.\n",
        "# For a generative char-level model, we generate continuations and use the actual text as \"reference\".\n",
        "# Let's try evaluating BLEU for different generation strategies\n",
        "# We need some \"human-written references\". For Shakespeare, the actual text can serve as this.\n",
        "\n",
        "# Generate samples for BLEU calculation\n",
        "num_bleu_samples = 20 # Number of samples to average BLEU over\n",
        "max_bleu_gen_len = 20   # Length of generated text for BLEU\n",
        "\n",
        "bleu_scores_table = {}\n",
        "chencherry = SmoothingFunction() # Define smoothing function once\n",
        "\n",
        "# Ensure 'decode' and 'encode' are available\n",
        "# decode = lambda l: ''.join([itos[i] for i in l])\n",
        "# encode = lambda s: [stoi[c] for c in s]\n",
        "\n",
        "# Greedy\n",
        "greedy_generations_for_bleu = []\n",
        "references_for_bleu = [] # This can be common for all methods if prompts are generated the same way\n",
        "model.eval() # Ensure model is in eval mode\n",
        "for i in range(num_bleu_samples):\n",
        "    # Ensure val_data, FINAL_BLOCK_SIZE, max_bleu_gen_len are defined\n",
        "    if len(val_data) <= FINAL_BLOCK_SIZE // 2 + max_bleu_gen_len :\n",
        "        print(\"Warning: val_data is too small for BLEU sampling. Skipping.\")\n",
        "        break\n",
        "    start_idx = np.random.randint(0, len(val_data) - (FINAL_BLOCK_SIZE // 2) - max_bleu_gen_len) # From val_data\n",
        "\n",
        "    prompt_toks = val_data[start_idx : start_idx + FINAL_BLOCK_SIZE // 2].tolist() # Shorter prompt\n",
        "    reference_toks = val_data[start_idx + FINAL_BLOCK_SIZE // 2 : start_idx + FINAL_BLOCK_SIZE // 2 + max_bleu_gen_len].tolist()\n",
        "\n",
        "    if not prompt_toks or not reference_toks: continue\n",
        "\n",
        "    # generate_text returns a string (prompt + generation)\n",
        "    full_generated_string = generate_text(model, prompt_toks, max_bleu_gen_len, stoi, itos, FINAL_BLOCK_SIZE, do_sample=False)\n",
        "\n",
        "    # Extract only generated part (which is already a string)\n",
        "    # len(prompt_toks) is the number of tokens in the prompt.\n",
        "    # The `full_generated_string` starts with the decoded prompt.\n",
        "    # We need to find the length of the decoded prompt string to slice correctly.\n",
        "    decoded_prompt_string = decode(prompt_toks)\n",
        "    generated_only_str = full_generated_string[len(decoded_prompt_string):] # CORRECTED\n",
        "\n",
        "    greedy_generations_for_bleu.append(list(generated_only_str)) # list of chars for hypothesis\n",
        "    references_for_bleu.append([list(decode(reference_toks))]) # list of list of chars for reference\n",
        "\n",
        "if greedy_generations_for_bleu:\n",
        "    bleu_greedy_scores = [sentence_bleu(ref, hypo, weights=(0.25,0.25,0.25,0.25), smoothing_function=chencherry.method1)\n",
        "                          for ref, hypo in zip(references_for_bleu, greedy_generations_for_bleu) if hypo and ref[0]]\n",
        "    bleu_scores_table['Greedy'] = np.mean(bleu_greedy_scores) if bleu_greedy_scores else 0.0\n",
        "else:\n",
        "    bleu_scores_table['Greedy'] = 0.0\n",
        "\n",
        "# Sampling (temp=0.7)\n",
        "sampling_generations_for_bleu = []\n",
        "references_for_sampling_bleu = [] # Re-generating references for clarity, or reuse references_for_bleu\n",
        "model.eval()\n",
        "for i in range(num_bleu_samples):\n",
        "    if len(val_data) <= FINAL_BLOCK_SIZE // 2 + max_bleu_gen_len :\n",
        "        # print(\"Warning: val_data is too small for BLEU sampling. Skipping.\") # Avoid repetitive prints\n",
        "        break\n",
        "    start_idx = np.random.randint(0, len(val_data) - (FINAL_BLOCK_SIZE // 2) - max_bleu_gen_len)\n",
        "    prompt_toks = val_data[start_idx : start_idx + FINAL_BLOCK_SIZE // 2].tolist()\n",
        "    reference_toks = val_data[start_idx + FINAL_BLOCK_SIZE // 2 : start_idx + FINAL_BLOCK_SIZE // 2 + max_bleu_gen_len].tolist()\n",
        "\n",
        "    if not prompt_toks or not reference_toks: continue\n",
        "\n",
        "    full_generated_string = generate_text(model, prompt_toks, max_bleu_gen_len, stoi, itos, FINAL_BLOCK_SIZE, temperature=0.7, do_sample=True, top_k=50)\n",
        "    decoded_prompt_string = decode(prompt_toks)\n",
        "    generated_only_str = full_generated_string[len(decoded_prompt_string):] # CORRECTED\n",
        "\n",
        "    sampling_generations_for_bleu.append(list(generated_only_str))\n",
        "    references_for_sampling_bleu.append([list(decode(reference_toks))])\n",
        "\n",
        "if sampling_generations_for_bleu:\n",
        "    bleu_sampling_scores = [sentence_bleu(ref, hypo, weights=(0.25,0.25,0.25,0.25), smoothing_function=chencherry.method1)\n",
        "                            for ref, hypo in zip(references_for_sampling_bleu, sampling_generations_for_bleu) if hypo and ref[0]]\n",
        "    bleu_scores_table['Sampling (t=0.7)'] = np.mean(bleu_sampling_scores) if bleu_sampling_scores else 0.0\n",
        "else:\n",
        "    bleu_scores_table['Sampling (t=0.7)'] = 0.0\n",
        "\n",
        "# \"Beam Search\" (Simplified to greedy in our generate_text)\n",
        "beam_generations_for_bleu = []\n",
        "references_for_beam_bleu = [] # Re-generating references for clarity\n",
        "model.eval()\n",
        "for i in range(num_bleu_samples):\n",
        "    if len(val_data) <= FINAL_BLOCK_SIZE // 2 + max_bleu_gen_len :\n",
        "        # print(\"Warning: val_data is too small for BLEU sampling. Skipping.\")\n",
        "        break\n",
        "    start_idx = np.random.randint(0, len(val_data) - (FINAL_BLOCK_SIZE // 2) - max_bleu_gen_len)\n",
        "    prompt_toks = val_data[start_idx : start_idx + FINAL_BLOCK_SIZE // 2].tolist()\n",
        "    reference_toks = val_data[start_idx + FINAL_BLOCK_SIZE // 2 : start_idx + FINAL_BLOCK_SIZE // 2 + max_bleu_gen_len].tolist()\n",
        "\n",
        "    if not prompt_toks or not reference_toks: continue\n",
        "\n",
        "    full_generated_string = generate_text(model, prompt_toks, max_bleu_gen_len, stoi, itos, FINAL_BLOCK_SIZE, num_beams=3) # Uses greedy\n",
        "    decoded_prompt_string = decode(prompt_toks)\n",
        "    generated_only_str = full_generated_string[len(decoded_prompt_string):] # CORRECTED\n",
        "\n",
        "    beam_generations_for_bleu.append(list(generated_only_str))\n",
        "    references_for_beam_bleu.append([list(decode(reference_toks))])\n",
        "\n",
        "if beam_generations_for_bleu:\n",
        "    bleu_beam_scores = [sentence_bleu(ref, hypo, weights=(0.25,0.25,0.25,0.25), smoothing_function=chencherry.method1)\n",
        "                        for ref, hypo in zip(references_for_beam_bleu, beam_generations_for_bleu) if hypo and ref[0]]\n",
        "    bleu_scores_table['Beam Search (k=3, simplified)'] = np.mean(bleu_beam_scores) if bleu_beam_scores else 0.0\n",
        "else:\n",
        "    bleu_scores_table['Beam Search (k=3, simplified)'] = 0.0\n",
        "\n",
        "\n",
        "print(\"\\nExample Output Table (Actual values will vary based on training):\") # Corrected typo here\n",
        "print(\"Generation Method                 | BLEU-4 Score | Perplexity\")\n",
        "print(\"----------------------------------|--------------|-----------\")\n",
        "print(f\"Greedy                            | {bleu_scores_table.get('Greedy', 0.0):.2f}         | {perplexity_val:.1f} (overall)\")\n",
        "print(f\"Sampling (t=0.7)                  | {bleu_scores_table.get('Sampling (t=0.7)', 0.0):.2f}         | {perplexity_val:.1f} (overall)\")\n",
        "print(f\"Beam Search (k=3, simplified)     | {bleu_scores_table.get('Beam Search (k=3, simplified)', 0.0):.2f}         | {perplexity_val:.1f} (overall)\")\n",
        "\n",
        "# It's good practice to set the model back to train mode if further training is expected,\n",
        "# but since this is the end of evaluation, it might not be strictly necessary here.\n",
        "# model.train()"
      ],
      "metadata": {
        "colab": {
          "base_uri": "https://localhost:8080/"
        },
        "id": "Z3mMp8tbqwnK",
        "outputId": "a2c543c7-4a64-4206-c086-50f04ff65167"
      },
      "execution_count": 30,
      "outputs": [
        {
          "output_type": "stream",
          "name": "stdout",
          "text": [
            "\n",
            "--- Model Evaluation Metrics ---\n",
            "Perplexity on Validation Set: 5.60\n",
            "Warning: Beam search is typically used with greedy decoding (do_sample=False). Using sampling with beams.\n",
            "Note: True beam search is complex. This simplified version for num_beams > 1 will use greedy decoding.\n",
            "Warning: Beam search is typically used with greedy decoding (do_sample=False). Using sampling with beams.\n",
            "Note: True beam search is complex. This simplified version for num_beams > 1 will use greedy decoding.\n",
            "Warning: Beam search is typically used with greedy decoding (do_sample=False). Using sampling with beams.\n",
            "Note: True beam search is complex. This simplified version for num_beams > 1 will use greedy decoding.\n",
            "Warning: Beam search is typically used with greedy decoding (do_sample=False). Using sampling with beams.\n",
            "Note: True beam search is complex. This simplified version for num_beams > 1 will use greedy decoding.\n",
            "Warning: Beam search is typically used with greedy decoding (do_sample=False). Using sampling with beams.\n",
            "Note: True beam search is complex. This simplified version for num_beams > 1 will use greedy decoding.\n",
            "Warning: Beam search is typically used with greedy decoding (do_sample=False). Using sampling with beams.\n",
            "Note: True beam search is complex. This simplified version for num_beams > 1 will use greedy decoding.\n",
            "Warning: Beam search is typically used with greedy decoding (do_sample=False). Using sampling with beams.\n",
            "Note: True beam search is complex. This simplified version for num_beams > 1 will use greedy decoding.\n",
            "Warning: Beam search is typically used with greedy decoding (do_sample=False). Using sampling with beams.\n",
            "Note: True beam search is complex. This simplified version for num_beams > 1 will use greedy decoding.\n",
            "Warning: Beam search is typically used with greedy decoding (do_sample=False). Using sampling with beams.\n",
            "Note: True beam search is complex. This simplified version for num_beams > 1 will use greedy decoding.\n",
            "Warning: Beam search is typically used with greedy decoding (do_sample=False). Using sampling with beams.\n",
            "Note: True beam search is complex. This simplified version for num_beams > 1 will use greedy decoding.\n",
            "Warning: Beam search is typically used with greedy decoding (do_sample=False). Using sampling with beams.\n",
            "Note: True beam search is complex. This simplified version for num_beams > 1 will use greedy decoding.\n",
            "Warning: Beam search is typically used with greedy decoding (do_sample=False). Using sampling with beams.\n",
            "Note: True beam search is complex. This simplified version for num_beams > 1 will use greedy decoding.\n",
            "Warning: Beam search is typically used with greedy decoding (do_sample=False). Using sampling with beams.\n",
            "Note: True beam search is complex. This simplified version for num_beams > 1 will use greedy decoding.\n",
            "Warning: Beam search is typically used with greedy decoding (do_sample=False). Using sampling with beams.\n",
            "Note: True beam search is complex. This simplified version for num_beams > 1 will use greedy decoding.\n",
            "Warning: Beam search is typically used with greedy decoding (do_sample=False). Using sampling with beams.\n",
            "Note: True beam search is complex. This simplified version for num_beams > 1 will use greedy decoding.\n",
            "Warning: Beam search is typically used with greedy decoding (do_sample=False). Using sampling with beams.\n",
            "Note: True beam search is complex. This simplified version for num_beams > 1 will use greedy decoding.\n",
            "Warning: Beam search is typically used with greedy decoding (do_sample=False). Using sampling with beams.\n",
            "Note: True beam search is complex. This simplified version for num_beams > 1 will use greedy decoding.\n",
            "Warning: Beam search is typically used with greedy decoding (do_sample=False). Using sampling with beams.\n",
            "Note: True beam search is complex. This simplified version for num_beams > 1 will use greedy decoding.\n",
            "Warning: Beam search is typically used with greedy decoding (do_sample=False). Using sampling with beams.\n",
            "Note: True beam search is complex. This simplified version for num_beams > 1 will use greedy decoding.\n",
            "Warning: Beam search is typically used with greedy decoding (do_sample=False). Using sampling with beams.\n",
            "Note: True beam search is complex. This simplified version for num_beams > 1 will use greedy decoding.\n",
            "\n",
            "Example Output Table (Actual values will vary based on training):\n",
            "Generation Method                 | BLEU-4 Score | Perplexity\n",
            "----------------------------------|--------------|-----------\n",
            "Greedy                            | 0.09         | 5.6 (overall)\n",
            "Sampling (t=0.7)                  | 0.06         | 5.6 (overall)\n",
            "Beam Search (k=3, simplified)     | 0.07         | 5.6 (overall)\n"
          ]
        }
      ]
    },
    {
      "cell_type": "markdown",
      "source": [
        "# 8. Pre-training and Fine-tuning\n",
        "## 8.1 Implement a pre-trained GPT2 model, add quantization, and fine-tune.\n",
        "For fine-tuning without feeding data for QA and NMT, this refers to zero-shot or few-shot prompting. The pre-trained model already has knowledge; we just need to frame the task as a text completion problem."
      ],
      "metadata": {
        "id": "znPC4g5ytTl5"
      }
    },
    {
      "cell_type": "code",
      "source": [
        "# --- 8.1 Pre-trained GPT-2, Quantization, Zero-shot/Few-shot \"Fine-tuning\" ---\n",
        "print(\"\\n--- 8.1 Pre-trained GPT-2 and Quantization ---\")\n",
        "\n",
        "# Load pre-trained GPT-2 model and tokenizer\n",
        "model_name = \"gpt2\"\n",
        "try:\n",
        "    tokenizer_hf = AutoTokenizer.from_pretrained(model_name)\n",
        "    if tokenizer_hf.pad_token is None:\n",
        "        tokenizer_hf.pad_token = tokenizer_hf.eos_token\n",
        "\n",
        "    pretrained_model_hf = AutoModelForCausalLM.from_pretrained(model_name)\n",
        "    pretrained_model_hf.config.pad_token_id = tokenizer_hf.pad_token_id\n",
        "    # Don't move to device yet if quantizing for CPU\n",
        "\n",
        "    print(f\"Loaded {model_name} with {sum(p.numel() for p in pretrained_model_hf.parameters()):,} parameters.\")\n",
        "\n",
        "    # Quantization (Dynamic Quantization for CPU)\n",
        "    print(\"Attempting dynamic quantization for CPU...\")\n",
        "    try:\n",
        "        # Ensure the model is on CPU before quantization\n",
        "        quantized_model_hf = torch.quantization.quantize_dynamic(\n",
        "            pretrained_model_hf.to('cpu'),\n",
        "            {torch.nn.Linear},\n",
        "            dtype=torch.qint8\n",
        "        )\n",
        "        # Keep the quantized model on CPU\n",
        "        quantized_model_hf.eval()\n",
        "        print(\"Model quantized dynamically and will run on CPU.\")\n",
        "\n",
        "        # For inference, ensure inputs are also on CPU\n",
        "        inference_device = torch.device(\"cpu\")\n",
        "\n",
        "    except Exception as e:\n",
        "        print(f\"Could not perform dynamic quantization: {e}\")\n",
        "        print(\"Using original unquantized model on the original device.\")\n",
        "        quantized_model_hf = pretrained_model_hf.to(device) # Fallback to original model on original device\n",
        "        inference_device = device # Use original device for inference\n",
        "\n",
        "    # --- Zero-shot/Few-shot \"Fine-tuning\" (Prompting) ---\n",
        "    print(\"\\n--- Zero-shot/Few-shot 'Fine-tuning' (Prompting) ---\")\n",
        "\n",
        "    # Modified generate_with_hf_model to accept an inference_device\n",
        "    def generate_with_hf_model(model, tokenizer, prompt, max_length=50, current_inference_device=torch.device(\"cpu\")):\n",
        "        model.to(current_inference_device) # Ensure model is on the correct device for this call\n",
        "        model.eval() # Ensure model is in eval mode\n",
        "\n",
        "        inputs = tokenizer(prompt, return_tensors=\"pt\").to(current_inference_device)\n",
        "\n",
        "        output_sequences = model.generate(\n",
        "            input_ids=inputs['input_ids'],\n",
        "            attention_mask=inputs['attention_mask'],\n",
        "            max_length=max_length + inputs['input_ids'].shape[1],\n",
        "            num_return_sequences=1,\n",
        "            no_repeat_ngram_size=2,\n",
        "            pad_token_id=tokenizer.eos_token_id,\n",
        "            eos_token_id=tokenizer.eos_token_id,\n",
        "            do_sample=True,\n",
        "            top_k=50,\n",
        "            top_p=0.95,\n",
        "            temperature=0.7\n",
        "        )\n",
        "        return tokenizer.decode(output_sequences[0], skip_special_tokens=True)\n",
        "\n",
        "    # QA Task (Zero-shot)\n",
        "    qa_prompt = \"Question: What is the capital of France?\\nAnswer:\"\n",
        "    qa_response = generate_with_hf_model(quantized_model_hf, tokenizer_hf, qa_prompt, current_inference_device=inference_device)\n",
        "    print(f\"\\nQA Task (Zero-shot):\\nPrompt: {qa_prompt}\\nGenerated: {qa_response}\")\n",
        "\n",
        "    # NMT Task (Few-shot)\n",
        "    nmt_prompt = (\n",
        "        \"Translate English to French:\\n\"\n",
        "        \"sea otter => loutre de mer\\n\"\n",
        "        \"peppermint => menthe poivrée\\n\"\n",
        "        \"cheese =>\"\n",
        "    )\n",
        "    nmt_response = generate_with_hf_model(quantized_model_hf, tokenizer_hf, nmt_prompt, current_inference_device=inference_device)\n",
        "    print(f\"\\nNMT Task (Few-shot):\\nPrompt: {nmt_prompt}\\nGenerated: {nmt_response}\")\n",
        "\n",
        "except Exception as e:\n",
        "    print(f\"Error loading or processing Hugging Face model in section 8.1: {e}\")\n",
        "    print(\"Skipping section 8.1.\")\n",
        "\n",
        "# Ensure device variable is reset or handled if other parts of your script expect it to be CUDA\n",
        "# For example, if the classification head part (8.2) needs the GPU:\n",
        "# device = torch.device(\"cuda\" if torch.cuda.is_available() else \"cpu\")\n",
        "# print(f\"Device for subsequent operations (like 8.2) set to: {device}\")"
      ],
      "metadata": {
        "colab": {
          "base_uri": "https://localhost:8080/"
        },
        "id": "BptD-D_3tTxI",
        "outputId": "093a434a-e3d1-4780-af51-0287f7f68248"
      },
      "execution_count": 28,
      "outputs": [
        {
          "output_type": "stream",
          "name": "stdout",
          "text": [
            "\n",
            "--- 8.1 Pre-trained GPT-2 and Quantization ---\n",
            "Loaded gpt2 with 124,439,808 parameters.\n",
            "Attempting dynamic quantization for CPU...\n",
            "Model quantized dynamically and will run on CPU.\n",
            "\n",
            "--- Zero-shot/Few-shot 'Fine-tuning' (Prompting) ---\n",
            "\n",
            "QA Task (Zero-shot):\n",
            "Prompt: Question: What is the capital of France?\n",
            "Answer:\n",
            "Generated: Question: What is the capital of France?\n",
            "Answer: Around 38,300,000, the and the aeons of the Fiihrer, to the the, that, a. the. The, and a theeong- (. with the ( the The and in- the of\n",
            "\n",
            "NMT Task (Few-shot):\n",
            "Prompt: Translate English to French:\n",
            "sea otter => loutre de mer\n",
            "peppermint => menthe poivrée\n",
            "cheese =>\n",
            "Generated: Translate English to French:\n",
            "sea otter => loutre de mer\n",
            "peppermint => menthe poivrée\n",
            "cheese => charismo n.\n",
            ", of a \"chacissant in a cochine, the, \" and with the to-teardrop at the \", to a the the in, (- for, in that of, on,\n"
          ]
        }
      ]
    },
    {
      "cell_type": "markdown",
      "source": [
        "# 8.2 Write the code for adding classification head to gpt-2, is it possible to use gpt-2 model for classification.\n",
        "Yes, it's possible. GPT-2 (and similar decoder-only models) can be adapted for classification tasks. A common approach is to:\n",
        "\n",
        "Add a special classification token (e.g., [CLS]) to the input, or use the hidden state of the last token of the sequence.\n",
        "Take the hidden state corresponding to this token (or the last token) from the final layer of GPT-2.\n",
        "Pass this hidden state through a new linear layer (the classification head) to get logits for each class.\n",
        "Fine-tune the entire model (or just the classification head and a few top layers of GPT-2) on a classification dataset."
      ],
      "metadata": {
        "id": "ODXRJ8pUtULN"
      }
    },
    {
      "cell_type": "code",
      "source": [
        "# --- 8.2 Adding a Classification Head to GPT-2 ---\n",
        "print(\"\\n--- 8.2 Adding Classification Head to GPT-2 ---\")\n",
        "\n",
        "class GPT2ForSequenceClassification(nn.Module):\n",
        "    def __init__(self, gpt2_model_name, num_classes, freeze_gpt2=False):\n",
        "        super().__init__()\n",
        "        self.gpt2 = AutoModelForCausalLM.from_pretrained(gpt2_model_name).base_model # Get the core transformer\n",
        "        self.config = self.gpt2.config\n",
        "\n",
        "        # Classification head\n",
        "        self.classifier = nn.Linear(self.config.n_embd, num_classes)\n",
        "\n",
        "        if freeze_gpt2:\n",
        "            for param in self.gpt2.parameters():\n",
        "                param.requires_grad = False\n",
        "\n",
        "        self.num_classes = num_classes\n",
        "\n",
        "    def forward(self, input_ids, attention_mask=None, labels=None):\n",
        "        # Get outputs from the base GPT-2 model\n",
        "        # `transformer_outputs` contains `last_hidden_state`, `past_key_values`, etc.\n",
        "        transformer_outputs = self.gpt2(\n",
        "            input_ids=input_ids,\n",
        "            attention_mask=attention_mask\n",
        "        )\n",
        "\n",
        "        # Use the hidden state of the last token for classification\n",
        "        # last_hidden_state shape: (batch_size, sequence_length, hidden_size)\n",
        "        last_hidden_state = transformer_outputs.last_hidden_state\n",
        "\n",
        "        # We need to decide which token's representation to use.\n",
        "        # Common practice: Use the representation of the *last non-padding token*.\n",
        "        if attention_mask is not None:\n",
        "            # Get the index of the last token for each sequence in the batch\n",
        "            # sequence_lengths = attention_mask.sum(dim=1) - 1 # 0-indexed\n",
        "            # Use gather to select the hidden state of the last token\n",
        "            # pooled_output = last_hidden_state[torch.arange(last_hidden_state.size(0), device=input_ids.device), sequence_lengths]\n",
        "\n",
        "            # Simpler: use the very last token's hidden state, assuming inputs are padded right and sequence is not empty\n",
        "            # This is common if a [CLS] token isn't explicitly used at the end or if relying on the EOS token's state.\n",
        "            # For tasks like sentiment analysis, the representation of the EOS token (or last token if no EOS) is often used.\n",
        "            pooled_output = last_hidden_state[:, -1, :] # (batch_size, hidden_size)\n",
        "        else:\n",
        "            # If no attention mask, assume all sequences are full and use the last token\n",
        "            pooled_output = last_hidden_state[:, -1, :]\n",
        "\n",
        "        logits = self.classifier(pooled_output) # (batch_size, num_classes)\n",
        "\n",
        "        loss = None\n",
        "        if labels is not None:\n",
        "            if self.num_classes == 1: # Regression or binary classification with BCEWithLogitsLoss\n",
        "                 loss_fct = nn.BCEWithLogitsLoss()\n",
        "                 loss = loss_fct(logits.squeeze(), labels.squeeze().float()) # Ensure labels are float\n",
        "            elif self.num_classes > 1 : # Multi-class classification\n",
        "                loss_fct = nn.CrossEntropyLoss()\n",
        "                loss = loss_fct(logits.view(-1, self.num_classes), labels.view(-1))\n",
        "            else: # num_classes = 0 or negative\n",
        "                raise ValueError(\"num_classes must be at least 1.\")\n",
        "\n",
        "        return logits, loss\n",
        "\n",
        "# Example Usage:\n",
        "try:\n",
        "    model_name_for_clf = \"gpt2\" # Use a small GPT-2\n",
        "    num_labels = 3 # Example: for a 3-class sentiment analysis task (pos, neg, neutral)\n",
        "\n",
        "    classification_model = GPT2ForSequenceClassification(model_name_for_clf, num_labels).to(device)\n",
        "\n",
        "    # Dummy input for testing\n",
        "    # Need a tokenizer for GPT-2\n",
        "    tokenizer_clf = AutoTokenizer.from_pretrained(model_name_for_clf)\n",
        "    if tokenizer_clf.pad_token is None: # GPT-2 often doesn't have a pad token by default\n",
        "        tokenizer_clf.pad_token = tokenizer_clf.eos_token\n",
        "        classification_model.config.pad_token_id = tokenizer_clf.eos_token_id\n",
        "\n",
        "\n",
        "    dummy_texts = [\"This is a great movie!\", \"I hated this film.\", \"The movie was okay.\"]\n",
        "    inputs = tokenizer_clf(dummy_texts, padding=True, truncation=True, return_tensors=\"pt\").to(device)\n",
        "\n",
        "    dummy_labels = torch.tensor([0, 1, 2], device=device) # Example labels\n",
        "\n",
        "    logits, loss = classification_model(input_ids=inputs['input_ids'],\n",
        "                                        attention_mask=inputs['attention_mask'],\n",
        "                                        labels=dummy_labels)\n",
        "\n",
        "    print(f\"\\nClassification Model Output Logits Shape: {logits.shape}\") # (batch_size, num_classes)\n",
        "    if loss is not None:\n",
        "        print(f\"Classification Model Loss: {loss.item()}\")\n",
        "    print(\"It is possible to use GPT-2 for classification by adding a classification head.\")\n",
        "\n",
        "except Exception as e:\n",
        "    print(f\"Error setting up GPT2ForSequenceClassification: {e}\")\n",
        "    print(\"Skipping section 8.2 example run.\")\n"
      ],
      "metadata": {
        "colab": {
          "base_uri": "https://localhost:8080/"
        },
        "id": "biMeDaxFtUZf",
        "outputId": "ed60a6bc-af69-4c41-ce7f-1d7871e32963"
      },
      "execution_count": 27,
      "outputs": [
        {
          "output_type": "stream",
          "name": "stdout",
          "text": [
            "\n",
            "--- 8.2 Adding Classification Head to GPT-2 ---\n",
            "\n",
            "Classification Model Output Logits Shape: torch.Size([3, 3])\n",
            "Classification Model Loss: 6.19115686416626\n",
            "It is possible to use GPT-2 for classification by adding a classification head.\n",
            "\n",
            "--- End of Script ---\n"
          ]
        }
      ]
    },
    {
      "cell_type": "markdown",
      "source": [
        "# So yes classification is possible and the above code is for using gpt-2 as a classification model"
      ],
      "metadata": {
        "id": "Tlbt_a2ytUgR"
      }
    }
  ]
}